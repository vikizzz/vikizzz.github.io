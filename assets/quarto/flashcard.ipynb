{
 "cells": [
  {
   "cell_type": "markdown",
   "metadata": {},
   "source": [
    "# Project Description"
   ]
  },
  {
   "cell_type": "markdown",
   "metadata": {},
   "source": [
    "This project is called **Flashcard** that was inspired by Quizlet, a selflearning tool with flashcards. People can use flashcards to help themselves practice and master what they're learning."
   ]
  },
  {
   "cell_type": "markdown",
   "metadata": {},
   "source": [
    "**Flashcard** has the following commands:\n",
    "\n",
    "User System:\n",
    "   1. `signup` - create user account\n",
    "   2. `login` - login into the user account and get access to the user's flashcard collection (switch to card system)\n",
    "   3. `show user` - show the current existed account (only username)\n",
    "   4. `end` - end the program\n",
    "   \n",
    "Card System:\n",
    "   1. `add` - add card to the flashcard collection\n",
    "   2. `remove` - remove card from the flashcard collection\n",
    "   3. `show card` - show the current flashcard collection\n",
    "   4. `quiz` - take a quiz in a designed order and focus by user\n",
    "   5. `logout` - logout the account and back to the user system"
   ]
  },
  {
   "cell_type": "markdown",
   "metadata": {},
   "source": [
    "This project contain two systems (user system and card system). Once the program is executed, it starts with the user system. User can create their account to have their own flashcard collection. After they create the account, they must login into the account to get access to their own flashcard collection. In addition, user can also see the current existed account (only the username) in the user system. \n",
    "\n",
    "Once the user login into their account, they are switch to the card system. In the card system, user can view their flashcard collection and add and remove cards in the collection. In addition, user can also quiz themselves from the collection to check their understanding. The quiz can be designed with specific order and focus by user. Once they finish the quiz, it will pop out the feedback of quiz to the user. If the user is done for their flashcard collection, they can logout their account and back to the user system. Then, user can choose to re-login or signup a new account or end the program."
   ]
  },
  {
   "cell_type": "markdown",
   "metadata": {},
   "source": [
    "## Project Code"
   ]
  },
  {
   "cell_type": "code",
   "execution_count": 1,
   "metadata": {},
   "outputs": [],
   "source": [
    "from my_module.classes import *\n",
    "from my_module.functions import *"
   ]
  },
  {
   "cell_type": "markdown",
   "metadata": {},
   "source": [
    "Because the output is too long, so I will present the user system and the card system separately."
   ]
  },
  {
   "cell_type": "markdown",
   "metadata": {},
   "source": [
    "We first need to use `User` system to create accounts. The following output presents you what different responses you will receive if you signup a new account, login into a unexisted account, login into a correct account, and logout the account."
   ]
  },
  {
   "cell_type": "code",
   "execution_count": 2,
   "metadata": {},
   "outputs": [
    {
     "name": "stdout",
     "output_type": "stream",
     "text": [
      "Hi! Welcome To Flashcards!\n",
      "\n",
      "Instructions:\n",
      "1. If you are the first time user, please type 'signup' to create your own flashcards!\n",
      "2. If you've already have account, please type 'login' to access your flashcards!\n",
      "3. If you want to see the current existed username, please type 'show user' to access the username list~\n",
      "4. If you've done learning, please type 'end' to end the program!\n",
      "\n",
      "Current Command: signup, login, show user, end\n",
      "Please enter your command:signup\n",
      "Please enter a username:viki\n",
      "Please create a password for this account:123\n",
      "\n",
      "You have created an account successfully!\n",
      "Please try to login into your account! \n",
      "\n",
      "Current Command: signup, login, show user, end\n",
      "Please type your command:signup\n",
      "Please enter a username:jason\n",
      "Please create a password for this account:456\n",
      "\n",
      "You have created an account successfully!\n",
      "Please try to login into your account! \n",
      "\n",
      "Current Command: signup, login, show user, end\n",
      "Please type your command:login\n",
      "Please enter a username:jack\n",
      "Please enter your password:111\n",
      "\n",
      "Please check your user name!\n",
      "\n",
      "\n",
      "Current Command: signup, login, show user, end\n",
      "Please type your command:show user\n",
      "\n",
      "Current existed username:\n",
      "['viki', 'jason']\n",
      "\n",
      "Current Command: signup, login, show user, end\n",
      "Please type your command:login\n",
      "Please enter a username:viki\n",
      "Please enter your password:123\n",
      "\n",
      "Welcome back viki!\n",
      "\n",
      "Inside your flashcard, here are thing you can do:\n",
      "1. Type 'add' to add a new card into your flashcard collections.\n",
      "2. Type 'remove' to remove an existed card from your flashcard collections.\n",
      "3. Type 'show card' to view your current entire flashcard collections.\n",
      "4. Type 'quiz' to take a quiz on your flashcard collections.\n",
      "5. Type 'logout' to logout your account.\n",
      "\n",
      "Enjoy Studying ^v^\n",
      "\n",
      "Current Command: add, remove, show card, quiz, logout\n",
      "Please enter your command:logout\n",
      "\n",
      "See you viki~\n",
      "\n",
      "Current Command: signup, login, show user, end\n",
      "Please type your command:wrong command\n",
      "You should enter one of the above command!\n",
      "\n",
      "Current Command: signup, login, show user, end\n",
      "Please type your command:end\n",
      "\n",
      "Bye~~~~\n"
     ]
    }
   ],
   "source": [
    "system = User()\n",
    "start(system)"
   ]
  },
  {
   "cell_type": "markdown",
   "metadata": {},
   "source": [
    "After we have account, in order to get into the `Card` system, we must login into the account. We will resume the same program we just ran. The following output will show you how the program process when you add, remove, and show cards and take quiz in the flashcard collection"
   ]
  },
  {
   "cell_type": "code",
   "execution_count": 3,
   "metadata": {},
   "outputs": [
    {
     "name": "stdout",
     "output_type": "stream",
     "text": [
      "Hi! Welcome To Flashcards!\n",
      "\n",
      "Instructions:\n",
      "1. If you are the first time user, please type 'signup' to create your own flashcards!\n",
      "2. If you've already have account, please type 'login' to access your flashcards!\n",
      "3. If you want to see the current existed username, please type 'show user' to access the username list~\n",
      "4. If you've done learning, please type 'end' to end the program!\n",
      "\n",
      "Current Command: signup, login, show user, end\n",
      "Please enter your command:login\n",
      "Please enter a username:viki\n",
      "Please enter your password:123\n",
      "\n",
      "Welcome back viki!\n",
      "\n",
      "Inside your flashcard, here are thing you can do:\n",
      "1. Type 'add' to add a new card into your flashcard collections.\n",
      "2. Type 'remove' to remove an existed card from your flashcard collections.\n",
      "3. Type 'show card' to view your current entire flashcard collections.\n",
      "4. Type 'quiz' to take a quiz on your flashcard collections.\n",
      "5. Type 'logout' to logout your account.\n",
      "\n",
      "Enjoy Studying ^v^\n",
      "\n",
      "Current Command: add, remove, show card, quiz, logout\n",
      "Please enter your command:add\n",
      "Term: string\n",
      "Definition: text\n",
      "\n",
      "\n",
      "Current Command: add, remove, show card, quiz, logout\n",
      "Please enter your command:add\n",
      "Term: integer\n",
      "Definition: whole number\n",
      "\n",
      "\n",
      "Current Command: add, remove, show card, quiz, logout\n",
      "Please enter your command:add\n",
      "Term: float\n",
      "Definition: signed, decimal point\n",
      "\n",
      "\n",
      "Current Command: add, remove, show card, quiz, logout\n",
      "Please enter your command:add\n",
      "Term: boolean\n",
      "Definition: True or False\n",
      "\n",
      "\n",
      "Current Command: add, remove, show card, quiz, logout\n",
      "Please enter your command:show card\n"
     ]
    },
    {
     "data": {
      "text/html": [
       "<div>\n",
       "<style scoped>\n",
       "    .dataframe tbody tr th:only-of-type {\n",
       "        vertical-align: middle;\n",
       "    }\n",
       "\n",
       "    .dataframe tbody tr th {\n",
       "        vertical-align: top;\n",
       "    }\n",
       "\n",
       "    .dataframe thead th {\n",
       "        text-align: right;\n",
       "    }\n",
       "</style>\n",
       "<table border=\"1\" class=\"dataframe\">\n",
       "  <thead>\n",
       "    <tr style=\"text-align: right;\">\n",
       "      <th></th>\n",
       "      <th>term</th>\n",
       "      <th>definition</th>\n",
       "    </tr>\n",
       "  </thead>\n",
       "  <tbody>\n",
       "    <tr>\n",
       "      <th>0</th>\n",
       "      <td>string</td>\n",
       "      <td>text</td>\n",
       "    </tr>\n",
       "    <tr>\n",
       "      <th>1</th>\n",
       "      <td>integer</td>\n",
       "      <td>whole number</td>\n",
       "    </tr>\n",
       "    <tr>\n",
       "      <th>2</th>\n",
       "      <td>float</td>\n",
       "      <td>signed, decimal point</td>\n",
       "    </tr>\n",
       "    <tr>\n",
       "      <th>3</th>\n",
       "      <td>boolean</td>\n",
       "      <td>True or False</td>\n",
       "    </tr>\n",
       "  </tbody>\n",
       "</table>\n",
       "</div>"
      ],
      "text/plain": [
       "      term             definition\n",
       "0   string                   text\n",
       "1  integer           whole number\n",
       "2    float  signed, decimal point\n",
       "3  boolean          True or False"
      ]
     },
     "metadata": {},
     "output_type": "display_data"
    },
    {
     "name": "stdout",
     "output_type": "stream",
     "text": [
      "\n",
      "\n",
      "Current Command: add, remove, show card, quiz, logout\n",
      "Please enter your command:remove\n",
      "Term: float\n",
      "\n",
      "\n",
      "Current Command: add, remove, show card, quiz, logout\n",
      "Please enter your command:show card\n"
     ]
    },
    {
     "data": {
      "text/html": [
       "<div>\n",
       "<style scoped>\n",
       "    .dataframe tbody tr th:only-of-type {\n",
       "        vertical-align: middle;\n",
       "    }\n",
       "\n",
       "    .dataframe tbody tr th {\n",
       "        vertical-align: top;\n",
       "    }\n",
       "\n",
       "    .dataframe thead th {\n",
       "        text-align: right;\n",
       "    }\n",
       "</style>\n",
       "<table border=\"1\" class=\"dataframe\">\n",
       "  <thead>\n",
       "    <tr style=\"text-align: right;\">\n",
       "      <th></th>\n",
       "      <th>term</th>\n",
       "      <th>definition</th>\n",
       "    </tr>\n",
       "  </thead>\n",
       "  <tbody>\n",
       "    <tr>\n",
       "      <th>0</th>\n",
       "      <td>string</td>\n",
       "      <td>text</td>\n",
       "    </tr>\n",
       "    <tr>\n",
       "      <th>1</th>\n",
       "      <td>integer</td>\n",
       "      <td>whole number</td>\n",
       "    </tr>\n",
       "    <tr>\n",
       "      <th>2</th>\n",
       "      <td>boolean</td>\n",
       "      <td>True or False</td>\n",
       "    </tr>\n",
       "  </tbody>\n",
       "</table>\n",
       "</div>"
      ],
      "text/plain": [
       "      term     definition\n",
       "0   string           text\n",
       "1  integer   whole number\n",
       "2  boolean  True or False"
      ]
     },
     "metadata": {},
     "output_type": "display_data"
    },
    {
     "name": "stdout",
     "output_type": "stream",
     "text": [
      "\n",
      "\n",
      "Current Command: add, remove, show card, quiz, logout\n",
      "Please enter your command:quiz\n",
      "Order is random or ordered?random\n",
      "Focus on term, definition, or mixed?mixed\n",
      "Explain boolean\n",
      "True or False\n",
      "You are correct!\n",
      "Explain integer\n",
      "whole number\n",
      "You are correct!\n",
      "Explain string\n",
      "text\n",
      "You are correct!\n",
      "Congratulations! You got them all correct!\n",
      "\n",
      "\n",
      "\n",
      "\n",
      "Current Command: add, remove, show card, quiz, logout\n",
      "Please enter your command:quiz\n",
      "Order is random or ordered?random\n",
      "Focus on term, definition, or mixed?mixed\n",
      "What is the term for: whole number\n",
      "I don't know\n",
      "Nice try! But the answer is: integer\n",
      "What is the term for: True or False\n",
      "boolean\n",
      "You are correct!\n",
      "Explain string\n",
      "text\n",
      "You are correct!\n",
      "You got wrong on below card(s):\n"
     ]
    },
    {
     "data": {
      "text/html": [
       "<div>\n",
       "<style scoped>\n",
       "    .dataframe tbody tr th:only-of-type {\n",
       "        vertical-align: middle;\n",
       "    }\n",
       "\n",
       "    .dataframe tbody tr th {\n",
       "        vertical-align: top;\n",
       "    }\n",
       "\n",
       "    .dataframe thead th {\n",
       "        text-align: right;\n",
       "    }\n",
       "</style>\n",
       "<table border=\"1\" class=\"dataframe\">\n",
       "  <thead>\n",
       "    <tr style=\"text-align: right;\">\n",
       "      <th></th>\n",
       "      <th>term</th>\n",
       "      <th>definition</th>\n",
       "    </tr>\n",
       "  </thead>\n",
       "  <tbody>\n",
       "    <tr>\n",
       "      <th>0</th>\n",
       "      <td>integer</td>\n",
       "      <td>whole number</td>\n",
       "    </tr>\n",
       "  </tbody>\n",
       "</table>\n",
       "</div>"
      ],
      "text/plain": [
       "      term    definition\n",
       "0  integer  whole number"
      ]
     },
     "metadata": {},
     "output_type": "display_data"
    },
    {
     "name": "stdout",
     "output_type": "stream",
     "text": [
      "\n",
      "\n",
      "\n",
      "\n",
      "Current Command: add, remove, show card, quiz, logout\n",
      "Please enter your command:logout\n",
      "\n",
      "See you viki~\n",
      "\n",
      "Current Command: signup, login, show user, end\n",
      "Please type your command:end\n",
      "\n",
      "Bye~~~~\n"
     ]
    }
   ],
   "source": [
    "start(system)"
   ]
  }
 ],
 "metadata": {
  "kernelspec": {
   "display_name": "Python 3",
   "language": "python",
   "name": "python3"
  },
  "language_info": {
   "codemirror_mode": {
    "name": "ipython",
    "version": 3
   },
   "file_extension": ".py",
   "mimetype": "text/x-python",
   "name": "python",
   "nbconvert_exporter": "python",
   "pygments_lexer": "ipython3",
   "version": "3.8.5"
  }
 },
 "nbformat": 4,
 "nbformat_minor": 4
}
